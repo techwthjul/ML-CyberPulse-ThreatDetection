{
 "cells": [
  {
   "cell_type": "code",
   "execution_count": null,
   "id": "f7fcccad",
   "metadata": {},
   "outputs": [],
   "source": [
    "# Our project, CyberPulse is an amalgamation of a cybersecurity 'firm' CyberHex leveraging machine learning techniques to reinforce their security. "
   ]
  },
  {
   "cell_type": "code",
   "execution_count": 32,
   "id": "e4be6af3",
   "metadata": {},
   "outputs": [],
   "source": [
    "# What is New in Our Approach?\n",
    "\n",
    "# Our novel approach extends beyond traditional methods by not just predicting anomaly scores or assessing severity but by synthesizing a comprehensive picture from a multitude of factors to predict the likelihood of an observation culminating in an actual cyber attack.\n",
    "# Initially, our plan was to estimate the anomaly scores and severity index based on the other factors, but this takes it to a whole new level.\n",
    "# Leveraging advanced machine learning techniques, such as XGBoost, we integrate diverse data points through sophisticated feature engineering. This methodology enables us to capture the intricate interactions between variables that are indicative of an impending attack.\n",
    "# Our confidence in this approach's success comes from its ability to process and analyze the complex nature of cybersecurity data, providing a more predictive insight into potential security threats.\n",
    "\n",
    "\n",
    "# Who Cares? If You Are Successful, What Difference Will It Make?\n",
    "\n",
    "# The implications of our approach, if successful, are significant for a broad spectrum of stakeholders within the cybersecurity ecosystem. By accurately predicting not just the potential for anomaly but the probability of an attack, enabling more effective mitigation strategies and resource allocation.\n",
    "\n",
    "\n"
   ]
  },
  {
   "cell_type": "code",
   "execution_count": null,
   "id": "59192f78",
   "metadata": {},
   "outputs": [],
   "source": []
  },
  {
   "cell_type": "code",
   "execution_count": null,
   "id": "93589a2d",
   "metadata": {},
   "outputs": [],
   "source": [
    "# Primary Stakeholders and Specific Need Addressed\n",
    "\n",
    "# Stakeholder Engagement and Impact\n",
    "\n",
    "# Our predictive analytics approach is designed to meet the critical needs of our key stakeholders: CyberHex and the Indian C&IS Division. By utilizing state-of-the-art machine learning models, we're not just enhancing cybersecurity services; we're transforming the landscape of digital defense.\n",
    "\n",
    "# CyberHex\n",
    "\n",
    "#Predictive Models: Our models don't just predict anomalies; they assess the complete threat landscape, enhancing the cybersecurity services offered by CyberHex with precision and foresight.\n",
    "\n",
    "#Attack Insights: The insights garnered from our comprehensive analysis enable CyberHex to devise tailored defense mechanisms, making the cybersecurity response more agile and effective.\n",
    "\n",
    "# Actionable Intelligence: The efficiency of resource allocation is improved by our actionable intelligence, ensuring that the right assets are deployed to counteract the most critical threats.\n",
    "# Collaboration: By aligning with the Indian C&IS Division, we ensure that our strategies are synchronized with national cybersecurity initiatives, creating a unified front against cyber threats.\n",
    "#Indian C&IS Division\n",
    "\n",
    "'''\n",
    "Predictive Models: Our proactive approach to attack mitigation arms the Indian C&IS Division with the ability tosee and neutralize threats.\n",
    "Threat Insights: Effective policy formulation is backed by our detailed threat insights, which inform and shape robust cybersecurity policies.\n",
    "Regular Reporting: With regular reporting, we provide a metric-based evaluation of cybersecurity measures, enabling continuous improvement and adaptation.\n",
    "Partnership: The partnership with CyberHex opens doors to advanced cybersecurity solutions and expertise, fortifying national resilience against a spectrum of cyber threats.\n",
    "The convergence of our predictive analytics with the operational prowess of CyberHex and the strategic mandate of the Indian C&IS Division creates a powerful synergy. Together, we're not just responding to threats—we're anticipating and neutralizing them, setting a new standard for cybersecurity and national defense.\n",
    "\n",
    "This narrative illustrates the synergy between your predictive analytics capabilities and the operational and strategic objectives of CyberHex and the Indian C&IS Division, highlighting the profound impact of your approach on national resilience.\n",
    "\n",
    "User\n",
    "now, add these points to the previous one \n",
    "ChatGPT\n",
    "Certainly! Combining the points from the previous response with the stakeholder information, here is an integrated narrative for your document:\n",
    "\n",
    "Innovative Approach and Its Success\n",
    "\n",
    "Our cutting-edge approach leverages advanced machine learning algorithms, notably Gradient Boosting Machines (GBM) like XGBoost, to extend beyond traditional predictive models. By not merely estimating anomaly scores or severity, our methodology synthesizes insights from a full spectrum of data points, enabling the prediction of whether a cybersecurity event will escalate into an actual attack. This is made possible through sophisticated feature engineering that identifies intricate patterns indicative of potential security breaches. Our confidence in this approach lies in its ability to analyze the complex, multidimensional nature of cybersecurity data, delivering nuanced predictions that are pivotal in preemptive threat identification and mitigation.\n",
    "\n",
    "Stakeholder Engagement and Impact\n",
    "\n",
    "Our approach caters to the pressing needs of our stakeholders, CyberHex, and the Indian C&IS Division, by providing enhanced cybersecurity services and tools for national defense:\n",
    "\n",
    "CyberHex\n",
    "\n",
    "Predictive Models: We are enhancing CyberHex's cybersecurity services by providing predictive models that transform the digital defense landscape with accuracy and foresight.\n",
    "Attack Insights: Tailored defense mechanisms are developed from our robust analysis, offering agile and effective responses to threats.\n",
    "Actionable Intelligence: We enable CyberHex to allocate resources efficiently, deploying critical assets to address the most pressing threats.\n",
    "Collaboration: Our alignment with the Indian C&IS Division ensures that our cybersecurity initiatives are in sync with national efforts, presenting a united front against cyber adversaries.\n",
    "\n",
    "Indian C&IS Division\n",
    "\n",
    "Predictive Models: Our predictive models are designed for attack mitigation, enabling the Indian C&IS Division to preemptively address potential threats.\n",
    "Threat Insights: Our in-depth threat analysis supports the formulation of effective cybersecurity policies, strengthening the nation's policy framework.\n",
    "Regular Reporting: We provide measurable evaluations of cybersecurity efforts, allowing for a dynamic approach to defense adaptation and enhancement.\n",
    "Partnership: Access to advanced cybersecurity solutions and expertise through our partnership with CyberHex reinforces the nation's resilience against a wide array of cyber threats.\n",
    "'''\n"
   ]
  },
  {
   "cell_type": "code",
   "execution_count": null,
   "id": "8410a142",
   "metadata": {},
   "outputs": [],
   "source": [
    "# Data: Let us talk about the dataset. We leveraged a big dataset comprising of various cybersecurity attacks that have taken place in India.\n",
    "'''\n",
    "Composition of data\n",
    "\n",
    "The dataset comprises various features essential for analyzing and understanding cybersecurity events, including:\n",
    "\n",
    "Timestamps: Recording the time of each event to facilitate temporal analysis and pattern recognition.\n",
    "Source and Destination IP Addresses and Ports: Identifying the origin and destination of network traffic to detect unusual communication patterns.\n",
    "Protocol Information: Indicating the type of network protocols used in each communication, aiding in the identification of potential threats.\n",
    "Packet Lengths and Types: Providing insights into the nature and characteristics of data packets transferred over the network.\n",
    "Payload Data: Sanitized and encoded information about the content of network traffic, preserving privacy while retaining essential pattern characteristics.\n",
    "Flags and Alerts: Flags and alerts raised by security systems, signaling potentially suspicious activities or security breaches.\n",
    "Action Taken: Actions performed by security systems in response to identified threats or anomalies.\n",
    "Anomaly Score: A quantitative measure representing the degree of deviation from normal behavior, facilitating anomaly detection.\n",
    "Severity: A qualitative assessment of the seriousness of security events, helping prioritize response efforts.\n",
    "Attack Type: Classification of events into specific attack types or categories, aiding in the understanding and categorization of security incidents.\n",
    "'''"
   ]
  },
  {
   "cell_type": "code",
   "execution_count": null,
   "id": "bbed402a",
   "metadata": {},
   "outputs": [],
   "source": [
    "# Now, we're going to be performing some basic preprocessing and EDA to understand the data better"
   ]
  },
  {
   "cell_type": "code",
   "execution_count": 15,
   "id": "007e6b35-bb41-423c-b43c-9c63fdf58796",
   "metadata": {},
   "outputs": [],
   "source": [
    "import pandas as pd\n"
   ]
  },
  {
   "cell_type": "code",
   "execution_count": 16,
   "id": "6361f6b4-2b00-46d6-83b9-de78d1acd8ef",
   "metadata": {},
   "outputs": [],
   "source": [
    "df = pd.read_csv(\"cyber.csv\")"
   ]
  },
  {
   "cell_type": "code",
   "execution_count": 17,
   "id": "caf1a72d-83ef-41cb-a334-ab5b886f6e4f",
   "metadata": {},
   "outputs": [
    {
     "data": {
      "text/html": [
       "<div>\n",
       "<style scoped>\n",
       "    .dataframe tbody tr th:only-of-type {\n",
       "        vertical-align: middle;\n",
       "    }\n",
       "\n",
       "    .dataframe tbody tr th {\n",
       "        vertical-align: top;\n",
       "    }\n",
       "\n",
       "    .dataframe thead th {\n",
       "        text-align: right;\n",
       "    }\n",
       "</style>\n",
       "<table border=\"1\" class=\"dataframe\">\n",
       "  <thead>\n",
       "    <tr style=\"text-align: right;\">\n",
       "      <th></th>\n",
       "      <th>Timestamp</th>\n",
       "      <th>Source IP Address</th>\n",
       "      <th>Destination IP Address</th>\n",
       "      <th>Source Port</th>\n",
       "      <th>Destination Port</th>\n",
       "      <th>Protocol</th>\n",
       "      <th>Packet Length</th>\n",
       "      <th>Packet Type</th>\n",
       "      <th>Traffic Type</th>\n",
       "      <th>Payload Data</th>\n",
       "      <th>...</th>\n",
       "      <th>Action Taken</th>\n",
       "      <th>Severity Level</th>\n",
       "      <th>User Information</th>\n",
       "      <th>Device Information</th>\n",
       "      <th>Network Segment</th>\n",
       "      <th>Geo-location Data</th>\n",
       "      <th>Proxy Information</th>\n",
       "      <th>Firewall Logs</th>\n",
       "      <th>IDS/IPS Alerts</th>\n",
       "      <th>Log Source</th>\n",
       "    </tr>\n",
       "  </thead>\n",
       "  <tbody>\n",
       "    <tr>\n",
       "      <th>0</th>\n",
       "      <td>30-05-2023 06:33</td>\n",
       "      <td>103.216.15.12</td>\n",
       "      <td>84.9.164.252</td>\n",
       "      <td>31225</td>\n",
       "      <td>17616</td>\n",
       "      <td>ICMP</td>\n",
       "      <td>503</td>\n",
       "      <td>Data</td>\n",
       "      <td>HTTP</td>\n",
       "      <td>Qui natus odio asperiores nam. Optio nobis ius...</td>\n",
       "      <td>...</td>\n",
       "      <td>Logged</td>\n",
       "      <td>Low</td>\n",
       "      <td>Reyansh Dugal</td>\n",
       "      <td>Mozilla/5.0 (compatible; MSIE 8.0; Windows NT ...</td>\n",
       "      <td>Segment A</td>\n",
       "      <td>Jamshedpur, Sikkim</td>\n",
       "      <td>150.9.97.135</td>\n",
       "      <td>Log Data</td>\n",
       "      <td>NaN</td>\n",
       "      <td>Server</td>\n",
       "    </tr>\n",
       "    <tr>\n",
       "      <th>1</th>\n",
       "      <td>26-08-2020 07:08</td>\n",
       "      <td>78.199.217.198</td>\n",
       "      <td>66.191.137.154</td>\n",
       "      <td>17245</td>\n",
       "      <td>48166</td>\n",
       "      <td>ICMP</td>\n",
       "      <td>1174</td>\n",
       "      <td>Data</td>\n",
       "      <td>HTTP</td>\n",
       "      <td>Aperiam quos modi officiis veritatis rem. Omni...</td>\n",
       "      <td>...</td>\n",
       "      <td>Blocked</td>\n",
       "      <td>Low</td>\n",
       "      <td>Sumer Rana</td>\n",
       "      <td>Mozilla/5.0 (compatible; MSIE 8.0; Windows NT ...</td>\n",
       "      <td>Segment B</td>\n",
       "      <td>Bilaspur, Nagaland</td>\n",
       "      <td>NaN</td>\n",
       "      <td>Log Data</td>\n",
       "      <td>NaN</td>\n",
       "      <td>Firewall</td>\n",
       "    </tr>\n",
       "    <tr>\n",
       "      <th>2</th>\n",
       "      <td>13-11-2022 08:23</td>\n",
       "      <td>63.79.210.48</td>\n",
       "      <td>198.219.82.17</td>\n",
       "      <td>16811</td>\n",
       "      <td>53600</td>\n",
       "      <td>UDP</td>\n",
       "      <td>306</td>\n",
       "      <td>Control</td>\n",
       "      <td>HTTP</td>\n",
       "      <td>Perferendis sapiente vitae soluta. Hic delectu...</td>\n",
       "      <td>...</td>\n",
       "      <td>Ignored</td>\n",
       "      <td>Low</td>\n",
       "      <td>Himmat Karpe</td>\n",
       "      <td>Mozilla/5.0 (compatible; MSIE 9.0; Windows NT ...</td>\n",
       "      <td>Segment C</td>\n",
       "      <td>Bokaro, Rajasthan</td>\n",
       "      <td>114.133.48.179</td>\n",
       "      <td>Log Data</td>\n",
       "      <td>Alert Data</td>\n",
       "      <td>Firewall</td>\n",
       "    </tr>\n",
       "    <tr>\n",
       "      <th>3</th>\n",
       "      <td>02-07-2023 10:38</td>\n",
       "      <td>163.42.196.10</td>\n",
       "      <td>101.228.192.255</td>\n",
       "      <td>20018</td>\n",
       "      <td>32534</td>\n",
       "      <td>UDP</td>\n",
       "      <td>385</td>\n",
       "      <td>Data</td>\n",
       "      <td>HTTP</td>\n",
       "      <td>Totam maxime beatae expedita explicabo porro l...</td>\n",
       "      <td>...</td>\n",
       "      <td>Blocked</td>\n",
       "      <td>Medium</td>\n",
       "      <td>Fateh Kibe</td>\n",
       "      <td>Mozilla/5.0 (Macintosh; PPC Mac OS X 10_11_5; ...</td>\n",
       "      <td>Segment B</td>\n",
       "      <td>Jaunpur, Rajasthan</td>\n",
       "      <td>NaN</td>\n",
       "      <td>NaN</td>\n",
       "      <td>Alert Data</td>\n",
       "      <td>Firewall</td>\n",
       "    </tr>\n",
       "    <tr>\n",
       "      <th>4</th>\n",
       "      <td>16-07-2023 13:11</td>\n",
       "      <td>71.166.185.76</td>\n",
       "      <td>189.243.174.238</td>\n",
       "      <td>6131</td>\n",
       "      <td>26646</td>\n",
       "      <td>TCP</td>\n",
       "      <td>1462</td>\n",
       "      <td>Data</td>\n",
       "      <td>DNS</td>\n",
       "      <td>Odit nesciunt dolorem nisi iste iusto. Animi v...</td>\n",
       "      <td>...</td>\n",
       "      <td>Blocked</td>\n",
       "      <td>Low</td>\n",
       "      <td>Dhanush Chad</td>\n",
       "      <td>Mozilla/5.0 (compatible; MSIE 5.0; Windows NT ...</td>\n",
       "      <td>Segment C</td>\n",
       "      <td>Anantapur, Tripura</td>\n",
       "      <td>149.6.110.119</td>\n",
       "      <td>NaN</td>\n",
       "      <td>Alert Data</td>\n",
       "      <td>Firewall</td>\n",
       "    </tr>\n",
       "  </tbody>\n",
       "</table>\n",
       "<p>5 rows × 25 columns</p>\n",
       "</div>"
      ],
      "text/plain": [
       "          Timestamp Source IP Address Destination IP Address  Source Port  \\\n",
       "0  30-05-2023 06:33     103.216.15.12           84.9.164.252        31225   \n",
       "1  26-08-2020 07:08    78.199.217.198         66.191.137.154        17245   \n",
       "2  13-11-2022 08:23      63.79.210.48          198.219.82.17        16811   \n",
       "3  02-07-2023 10:38     163.42.196.10        101.228.192.255        20018   \n",
       "4  16-07-2023 13:11     71.166.185.76        189.243.174.238         6131   \n",
       "\n",
       "   Destination Port Protocol  Packet Length Packet Type Traffic Type  \\\n",
       "0             17616     ICMP            503        Data         HTTP   \n",
       "1             48166     ICMP           1174        Data         HTTP   \n",
       "2             53600      UDP            306     Control         HTTP   \n",
       "3             32534      UDP            385        Data         HTTP   \n",
       "4             26646      TCP           1462        Data          DNS   \n",
       "\n",
       "                                        Payload Data  ... Action Taken  \\\n",
       "0  Qui natus odio asperiores nam. Optio nobis ius...  ...       Logged   \n",
       "1  Aperiam quos modi officiis veritatis rem. Omni...  ...      Blocked   \n",
       "2  Perferendis sapiente vitae soluta. Hic delectu...  ...      Ignored   \n",
       "3  Totam maxime beatae expedita explicabo porro l...  ...      Blocked   \n",
       "4  Odit nesciunt dolorem nisi iste iusto. Animi v...  ...      Blocked   \n",
       "\n",
       "   Severity Level User Information  \\\n",
       "0             Low    Reyansh Dugal   \n",
       "1             Low       Sumer Rana   \n",
       "2             Low     Himmat Karpe   \n",
       "3          Medium       Fateh Kibe   \n",
       "4             Low     Dhanush Chad   \n",
       "\n",
       "                                  Device Information Network Segment  \\\n",
       "0  Mozilla/5.0 (compatible; MSIE 8.0; Windows NT ...       Segment A   \n",
       "1  Mozilla/5.0 (compatible; MSIE 8.0; Windows NT ...       Segment B   \n",
       "2  Mozilla/5.0 (compatible; MSIE 9.0; Windows NT ...       Segment C   \n",
       "3  Mozilla/5.0 (Macintosh; PPC Mac OS X 10_11_5; ...       Segment B   \n",
       "4  Mozilla/5.0 (compatible; MSIE 5.0; Windows NT ...       Segment C   \n",
       "\n",
       "    Geo-location Data Proxy Information Firewall Logs IDS/IPS Alerts  \\\n",
       "0  Jamshedpur, Sikkim      150.9.97.135      Log Data            NaN   \n",
       "1  Bilaspur, Nagaland               NaN      Log Data            NaN   \n",
       "2   Bokaro, Rajasthan    114.133.48.179      Log Data     Alert Data   \n",
       "3  Jaunpur, Rajasthan               NaN           NaN     Alert Data   \n",
       "4  Anantapur, Tripura     149.6.110.119           NaN     Alert Data   \n",
       "\n",
       "  Log Source  \n",
       "0     Server  \n",
       "1   Firewall  \n",
       "2   Firewall  \n",
       "3   Firewall  \n",
       "4   Firewall  \n",
       "\n",
       "[5 rows x 25 columns]"
      ]
     },
     "execution_count": 17,
     "metadata": {},
     "output_type": "execute_result"
    }
   ],
   "source": [
    "df.head()"
   ]
  },
  {
   "cell_type": "code",
   "execution_count": 18,
   "id": "4cbab01a-557d-47c1-94f4-a9ad13f8cdbe",
   "metadata": {},
   "outputs": [
    {
     "data": {
      "text/html": [
       "<div>\n",
       "<style scoped>\n",
       "    .dataframe tbody tr th:only-of-type {\n",
       "        vertical-align: middle;\n",
       "    }\n",
       "\n",
       "    .dataframe tbody tr th {\n",
       "        vertical-align: top;\n",
       "    }\n",
       "\n",
       "    .dataframe thead th {\n",
       "        text-align: right;\n",
       "    }\n",
       "</style>\n",
       "<table border=\"1\" class=\"dataframe\">\n",
       "  <thead>\n",
       "    <tr style=\"text-align: right;\">\n",
       "      <th></th>\n",
       "      <th>Source Port</th>\n",
       "      <th>Destination Port</th>\n",
       "      <th>Packet Length</th>\n",
       "      <th>Anomaly Scores</th>\n",
       "    </tr>\n",
       "  </thead>\n",
       "  <tbody>\n",
       "    <tr>\n",
       "      <th>count</th>\n",
       "      <td>40000.000000</td>\n",
       "      <td>40000.000000</td>\n",
       "      <td>40000.000000</td>\n",
       "      <td>40000.000000</td>\n",
       "    </tr>\n",
       "    <tr>\n",
       "      <th>mean</th>\n",
       "      <td>32970.356450</td>\n",
       "      <td>33150.868650</td>\n",
       "      <td>781.452725</td>\n",
       "      <td>50.113473</td>\n",
       "    </tr>\n",
       "    <tr>\n",
       "      <th>std</th>\n",
       "      <td>18560.425604</td>\n",
       "      <td>18574.668842</td>\n",
       "      <td>416.044192</td>\n",
       "      <td>28.853598</td>\n",
       "    </tr>\n",
       "    <tr>\n",
       "      <th>min</th>\n",
       "      <td>1027.000000</td>\n",
       "      <td>1024.000000</td>\n",
       "      <td>64.000000</td>\n",
       "      <td>0.000000</td>\n",
       "    </tr>\n",
       "    <tr>\n",
       "      <th>25%</th>\n",
       "      <td>16850.750000</td>\n",
       "      <td>17094.750000</td>\n",
       "      <td>420.000000</td>\n",
       "      <td>25.150000</td>\n",
       "    </tr>\n",
       "    <tr>\n",
       "      <th>50%</th>\n",
       "      <td>32856.000000</td>\n",
       "      <td>33004.500000</td>\n",
       "      <td>782.000000</td>\n",
       "      <td>50.345000</td>\n",
       "    </tr>\n",
       "    <tr>\n",
       "      <th>75%</th>\n",
       "      <td>48928.250000</td>\n",
       "      <td>49287.000000</td>\n",
       "      <td>1143.000000</td>\n",
       "      <td>75.030000</td>\n",
       "    </tr>\n",
       "    <tr>\n",
       "      <th>max</th>\n",
       "      <td>65530.000000</td>\n",
       "      <td>65535.000000</td>\n",
       "      <td>1500.000000</td>\n",
       "      <td>100.000000</td>\n",
       "    </tr>\n",
       "  </tbody>\n",
       "</table>\n",
       "</div>"
      ],
      "text/plain": [
       "        Source Port  Destination Port  Packet Length  Anomaly Scores\n",
       "count  40000.000000      40000.000000   40000.000000    40000.000000\n",
       "mean   32970.356450      33150.868650     781.452725       50.113473\n",
       "std    18560.425604      18574.668842     416.044192       28.853598\n",
       "min     1027.000000       1024.000000      64.000000        0.000000\n",
       "25%    16850.750000      17094.750000     420.000000       25.150000\n",
       "50%    32856.000000      33004.500000     782.000000       50.345000\n",
       "75%    48928.250000      49287.000000    1143.000000       75.030000\n",
       "max    65530.000000      65535.000000    1500.000000      100.000000"
      ]
     },
     "execution_count": 18,
     "metadata": {},
     "output_type": "execute_result"
    }
   ],
   "source": [
    "df.describe()"
   ]
  },
  {
   "cell_type": "code",
   "execution_count": 19,
   "id": "3735b04e-b7d8-4def-8500-e491d6dbbc90",
   "metadata": {},
   "outputs": [
    {
     "data": {
      "text/plain": [
       "Timestamp                  object\n",
       "Source IP Address          object\n",
       "Destination IP Address     object\n",
       "Source Port                 int64\n",
       "Destination Port            int64\n",
       "Protocol                   object\n",
       "Packet Length               int64\n",
       "Packet Type                object\n",
       "Traffic Type               object\n",
       "Payload Data               object\n",
       "Malware Indicators         object\n",
       "Anomaly Scores            float64\n",
       "Alerts/Warnings            object\n",
       "Attack Type                object\n",
       "Attack Signature           object\n",
       "Action Taken               object\n",
       "Severity Level             object\n",
       "User Information           object\n",
       "Device Information         object\n",
       "Network Segment            object\n",
       "Geo-location Data          object\n",
       "Proxy Information          object\n",
       "Firewall Logs              object\n",
       "IDS/IPS Alerts             object\n",
       "Log Source                 object\n",
       "dtype: object"
      ]
     },
     "execution_count": 19,
     "metadata": {},
     "output_type": "execute_result"
    }
   ],
   "source": [
    "df.dtypes"
   ]
  },
  {
   "cell_type": "code",
   "execution_count": 20,
   "id": "c48ae7d0-92cc-43b8-aa1c-fa6cd45d254c",
   "metadata": {},
   "outputs": [
    {
     "data": {
      "text/plain": [
       "Timestamp                     0\n",
       "Source IP Address             0\n",
       "Destination IP Address        0\n",
       "Source Port                   0\n",
       "Destination Port              0\n",
       "Protocol                      0\n",
       "Packet Length                 0\n",
       "Packet Type                   0\n",
       "Traffic Type                  0\n",
       "Payload Data                  0\n",
       "Malware Indicators        20000\n",
       "Anomaly Scores                0\n",
       "Alerts/Warnings           20067\n",
       "Attack Type                   0\n",
       "Attack Signature              0\n",
       "Action Taken                  0\n",
       "Severity Level                0\n",
       "User Information              0\n",
       "Device Information            0\n",
       "Network Segment               0\n",
       "Geo-location Data             0\n",
       "Proxy Information         19851\n",
       "Firewall Logs             19961\n",
       "IDS/IPS Alerts            20050\n",
       "Log Source                    0\n",
       "dtype: int64"
      ]
     },
     "execution_count": 20,
     "metadata": {},
     "output_type": "execute_result"
    }
   ],
   "source": [
    "df.isna().sum()    # We are going to check for nulls in the dataset"
   ]
  },
  {
   "cell_type": "code",
   "execution_count": 21,
   "id": "ee27dfbf-c437-4ffa-902c-d17d0bbf7448",
   "metadata": {},
   "outputs": [],
   "source": [
    "# We're going to perform some imputation to fill in the missing values. We will use they keyword 'unknown'\n",
    "columns_to_fill = ['Malware Indicators', 'Alerts/Warnings', 'Proxy Information', 'Firewall Logs', 'IDS/IPS Alerts']\n",
    "df[columns_to_fill] = df[columns_to_fill].fillna('Unknown')   "
   ]
  },
  {
   "cell_type": "code",
   "execution_count": 22,
   "id": "36ec3327-70bb-44c2-9568-f9f75091699b",
   "metadata": {},
   "outputs": [
    {
     "data": {
      "text/plain": [
       "Timestamp                 0\n",
       "Source IP Address         0\n",
       "Destination IP Address    0\n",
       "Source Port               0\n",
       "Destination Port          0\n",
       "Protocol                  0\n",
       "Packet Length             0\n",
       "Packet Type               0\n",
       "Traffic Type              0\n",
       "Payload Data              0\n",
       "Malware Indicators        0\n",
       "Anomaly Scores            0\n",
       "Alerts/Warnings           0\n",
       "Attack Type               0\n",
       "Attack Signature          0\n",
       "Action Taken              0\n",
       "Severity Level            0\n",
       "User Information          0\n",
       "Device Information        0\n",
       "Network Segment           0\n",
       "Geo-location Data         0\n",
       "Proxy Information         0\n",
       "Firewall Logs             0\n",
       "IDS/IPS Alerts            0\n",
       "Log Source                0\n",
       "dtype: int64"
      ]
     },
     "execution_count": 22,
     "metadata": {},
     "output_type": "execute_result"
    }
   ],
   "source": [
    "df.isna().sum()"
   ]
  },
  {
   "cell_type": "code",
   "execution_count": 23,
   "id": "058b1b77-edb2-41bc-a811-ada974dc12c9",
   "metadata": {},
   "outputs": [
    {
     "data": {
      "image/png": "[encoded data removed]",
      "text/plain": [
       "<Figure size 640x480 with 1 Axes>"
      ]
     },
     "metadata": {},
     "output_type": "display_data"
    }
   ],
   "source": [
    "# Visualize outliers in Anomaly Scores\n",
    "sns.boxplot(y='Anomaly Scores', data=df)\n",
    "plt.ylabel('Anomaly Scores')\n",
    "plt.title('Boxplot of Anomaly Scores')\n",
    "plt.show()"
   ]
  },
  {
   "cell_type": "code",
   "execution_count": 29,
   "id": "1527b7e6",
   "metadata": {},
   "outputs": [
    {
     "data": {
      "image/png": "[encoded data removed]",
      "text/plain": [
       "<Figure size 1000x600 with 1 Axes>"
      ]
     },
     "metadata": {},
     "output_type": "display_data"
    }
   ],
   "source": [
    "# Count the occurrences of each attack type\n",
    "attack_type_counts = df['Attack Type'].value_counts()\n",
    "\n",
    "# Plotting\n",
    "plt.figure(figsize=(10, 6))\n",
    "sns.barplot(x=attack_type_counts.index, y=attack_type_counts.values, palette=\"viridis\")\n",
    "plt.xlabel('Attack Type')\n",
    "plt.ylabel('Count')\n",
    "plt.title('Distribution of Attack Types')\n",
    "plt.xticks(rotation=45, ha='right')\n",
    "plt.tight_layout()\n",
    "plt.show()"
   ]
  },
  {
   "cell_type": "code",
   "execution_count": 12,
   "id": "2ec475fd-0fc2-4cbe-850a-626dd0e085ab",
   "metadata": {},
   "outputs": [
    {
     "data": {
      "image/png": "[encoded data removed]",
      "text/plain": [
       "<Figure size 1000x600 with 1 Axes>"
      ]
     },
     "metadata": {},
     "output_type": "display_data"
    }
   ],
   "source": [
    "import matplotlib.pyplot as plt\n",
    "import seaborn as sns\n",
    "import pandas as pd\n",
    "\n",
    "# Looking at the distribution of anomaly scores \n",
    "# Set the aesthetic style of the plots\n",
    "sns.set_style('whitegrid')\n",
    "\n",
    "# Visualizing the distribution of Anomaly Scores\n",
    "plt.figure(figsize=(10, 6))\n",
    "sns.histplot(df['Anomaly Scores'], kde=True, bins=30)\n",
    "plt.title('Distribution of Anomaly Scores')\n",
    "plt.xlabel('Anomaly Scores')\n",
    "plt.ylabel('Frequency')\n",
    "plt.grid(True)\n",
    "plt.show()"
   ]
  },
  {
   "cell_type": "code",
   "execution_count": 30,
   "id": "9b64196d",
   "metadata": {},
   "outputs": [
    {
     "data": {
      "image/png": "[encoded data removed]",
      "text/plain": [
       "<Figure size 800x800 with 1 Axes>"
      ]
     },
     "metadata": {},
     "output_type": "display_data"
    }
   ],
   "source": [
    "# Distribution of traffic types\n",
    "traffic_type_counts = df['Traffic Type'].value_counts()\n",
    "\n",
    "# Plotting\n",
    "plt.figure(figsize=(8, 8))\n",
    "plt.pie(traffic_type_counts, labels=traffic_type_counts.index, autopct='%1.1f%%', startangle=140)\n",
    "plt.title('Distribution of Traffic Types')\n",
    "plt.axis('equal')  # Equal aspect ratio ensures that pie is drawn as a circle.\n",
    "plt.show()"
   ]
  },
  {
   "cell_type": "code",
   "execution_count": 13,
   "id": "70dc0611-2641-4f64-adb8-d55e742c7d7c",
   "metadata": {},
   "outputs": [
    {
     "name": "stdout",
     "output_type": "stream",
     "text": [
      "Anomaly Scores\n",
      "28.67    12\n",
      "57.18    12\n",
      "93.76    12\n",
      "15.39    12\n",
      "77.12    12\n",
      "         ..\n",
      "84.71     1\n",
      "62.68     1\n",
      "18.01     1\n",
      "69.41     1\n",
      "6.58      1\n",
      "Name: count, Length: 9826, dtype: int64\n"
     ]
    }
   ],
   "source": [
    "# Check class distribution of Anomaly Scores\n",
    "class_distribution = df['Anomaly Scores'].value_counts()\n",
    "print(class_distribution)"
   ]
  },
  {
   "cell_type": "code",
   "execution_count": 14,
   "id": "20fcf841-3bb1-4d40-b4bf-ca79bff8d02c",
   "metadata": {},
   "outputs": [
    {
     "name": "stdout",
     "output_type": "stream",
     "text": [
      "Unique values in column 'Timestamp': ['30-05-2023 06:33' '26-08-2020 07:08' '13-11-2022 08:23' ...\n",
      " '31-03-2022 01:45' '22-09-2023 18:32' '10-10-2023 11:59']\n",
      "Unique values in column 'Source IP Address': ['103.216.15.12' '78.199.217.198' '63.79.210.48' ... '162.35.217.57'\n",
      " '208.72.233.205' '14.102.21.108']\n",
      "Unique values in column 'Destination IP Address': ['84.9.164.252' '66.191.137.154' '198.219.82.17' ... '98.107.0.15'\n",
      " '173.79.112.252' '109.198.45.7']\n",
      "Unique values in column 'Source Port': [31225 17245 16811 ...  2553 20013 50137]\n",
      "Unique values in column 'Destination Port': [17616 48166 53600 ... 63148  6764 25152]\n",
      "Unique values in column 'Protocol': ['ICMP' 'UDP' 'TCP']\n",
      "Unique values in column 'Packet Length': [ 503 1174  306 ... 1265 1025 1228]\n",
      "Unique values in column 'Packet Type': ['Data' 'Control']\n",
      "Unique values in column 'Traffic Type': ['HTTP' 'DNS' 'FTP']\n",
      "Unique values in column 'Payload Data': ['Qui natus odio asperiores nam. Optio nobis iusto accusamus ad perferendis esse at. Asperiores neque at ad.\\nMaiores possimus ipsum saepe vitae. Ad possimus veritatis.'\n",
      " 'Aperiam quos modi officiis veritatis rem. Omnis nulla dolore perspiciatis.\\nIllo animi mollitia vero voluptates error ad. Quidem maxime eaque optio a. Consectetur quasi veniam et totam culpa ullam.'\n",
      " 'Perferendis sapiente vitae soluta. Hic delectus quae nemo ea esse est rerum.'\n",
      " ...\n",
      " 'Enim at aspernatur illum. Saepe numquam eligendi tempore esse. Dolorem tenetur ipsam necessitatibus cum minima earum sequi.\\nFacere quam ducimus hic. Tempore repudiandae dolor sed voluptatem ipsum.'\n",
      " 'Officiis dolorem sed harum provident earum distinctio. Eveniet nihil neque tempora adipisci eos. Quae voluptatem minima iusto autem ab natus tempora.'\n",
      " 'Eligendi omnis voluptate nihil voluptatibus dolorum voluptatibus. Non placeat neque ipsum reiciendis excepturi voluptatibus optio.\\nTenetur culpa blanditiis distinctio dolores.']\n",
      "Unique values in column 'Malware Indicators': ['IoC Detected' 'Unknown']\n",
      "Unique values in column 'Anomaly Scores': [28.67 51.5  87.42 ... 95.85 74.68  6.58]\n",
      "Unique values in column 'Alerts/Warnings': ['Unknown' 'Alert Triggered']\n",
      "Unique values in column 'Attack Type': ['Malware' 'DDoS' 'Intrusion']\n",
      "Unique values in column 'Attack Signature': ['Known Pattern B' 'Known Pattern A']\n",
      "Unique values in column 'Action Taken': ['Logged' 'Blocked' 'Ignored']\n",
      "Unique values in column 'Severity Level': ['Low' 'Medium' 'High']\n",
      "Unique values in column 'User Information': ['Reyansh Dugal' 'Sumer Rana' 'Himmat Karpe' ... 'Adira Madan' 'Rati Dara'\n",
      " 'Zaina Kumar']\n",
      "Unique values in column 'Device Information': ['Mozilla/5.0 (compatible; MSIE 8.0; Windows NT 6.2; Trident/5.0)'\n",
      " 'Mozilla/5.0 (compatible; MSIE 8.0; Windows NT 6.0; Trident/4.0)'\n",
      " 'Mozilla/5.0 (compatible; MSIE 9.0; Windows NT 6.2; Trident/5.0)' ...\n",
      " 'Mozilla/5.0 (Windows; U; Windows NT 4.0) AppleWebKit/533.2.3 (KHTML, like Gecko) Version/4.0.3 Safari/533.2.3'\n",
      " 'Mozilla/5.0 (X11; Linux i686) AppleWebKit/536.2 (KHTML, like Gecko) Chrome/15.0.852.0 Safari/536.2'\n",
      " 'Mozilla/5.0 (iPod; U; CPU iPhone OS 3_0 like Mac OS X; tg-TJ) AppleWebKit/534.33.5 (KHTML, like Gecko) Version/4.0.5 Mobile/8B116 Safari/6534.33.5']\n",
      "Unique values in column 'Network Segment': ['Segment A' 'Segment B' 'Segment C']\n",
      "Unique values in column 'Geo-location Data': ['Jamshedpur, Sikkim' 'Bilaspur, Nagaland' 'Bokaro, Rajasthan' ...\n",
      " 'Vadodara, Meghalaya' 'Cuttack, Jharkhand' 'Nagpur, Punjab']\n",
      "Unique values in column 'Proxy Information': ['150.9.97.135' 'Unknown' '114.133.48.179' ... '60.51.30.46'\n",
      " '137.76.130.8' '112.169.115.139']\n",
      "Unique values in column 'Firewall Logs': ['Log Data' 'Unknown']\n",
      "Unique values in column 'IDS/IPS Alerts': ['Unknown' 'Alert Data']\n",
      "Unique values in column 'Log Source': ['Server' 'Firewall']\n"
     ]
    }
   ],
   "source": [
    "# Counting unique values\n",
    "unique_values = {}\n",
    "for column in df.columns:\n",
    "    unique_values[column] = df[column].unique()\n",
    "\n",
    "# Print unique values for each column\n",
    "for column, values in unique_values.items():\n",
    "    print(f\"Unique values in column '{column}': {values}\")"
   ]
  },
  {
   "cell_type": "markdown",
   "id": "4ca313f0-23bb-4e3a-b847-a6ed46463f1b",
   "metadata": {},
   "source": [
    "We will be perfoming label encoding "
   ]
  },
  {
   "cell_type": "code",
   "execution_count": 93,
   "id": "ae507700-4ad0-4dec-9666-6a061cb760ad",
   "metadata": {},
   "outputs": [
    {
     "name": "stdout",
     "output_type": "stream",
     "text": [
      "   Protocol  Packet Type  Traffic Type  Malware Indicators  Alerts/Warnings  \\\n",
      "0         0            1             2                   0                1   \n",
      "1         0            1             2                   0                1   \n",
      "2         2            0             2                   0                0   \n",
      "3         2            1             2                   1                0   \n",
      "4         1            1             0                   1                0   \n",
      "\n",
      "   Attack Type  Attack Signature  Action Taken  Severity Level  \\\n",
      "0            2                 1             2               1   \n",
      "1            2                 0             0               1   \n",
      "2            0                 1             1               1   \n",
      "3            2                 1             0               2   \n",
      "4            0                 1             0               1   \n",
      "\n",
      "   Network Segment  Firewall Logs  IDS/IPS Alerts  Log Source  Source Port  \\\n",
      "0                0              0               1           1        31225   \n",
      "1                1              0               1           0        17245   \n",
      "2                2              0               0           0        16811   \n",
      "3                1              1               0           0        20018   \n",
      "4                2              1               0           0         6131   \n",
      "\n",
      "   Destination Port  Packet Length  Anomaly Scores  \n",
      "0             17616            503           28.67  \n",
      "1             48166           1174           51.50  \n",
      "2             53600            306           87.42  \n",
      "3             32534            385           15.79  \n",
      "4             26646           1462            0.52  \n"
     ]
    }
   ],
   "source": [
    "import pandas as pd\n",
    "from sklearn.preprocessing import LabelEncoder\n",
    "\n",
    "df = pd.read_csv(\"cyber.csv\")\n",
    "\n",
    "columns_to_encode = ['Protocol', 'Packet Type', 'Traffic Type', 'Malware Indicators', \n",
    "                     'Alerts/Warnings', 'Attack Type', 'Attack Signature', 'Action Taken', \n",
    "                     'Severity Level', 'Network Segment', 'Firewall Logs', 'IDS/IPS Alerts', \n",
    "                     'Log Source']\n",
    "\n",
    "# Perform label encoding\n",
    "label_encoder = LabelEncoder()\n",
    "encoded_df = df[columns_to_encode].apply(label_encoder.fit_transform)\n",
    "\n",
    "numerical_columns = df.select_dtypes(include=['int64', 'float64'])\n",
    "concatenated_df = pd.concat([encoded_df, numerical_columns], axis=1)\n",
    "\n",
    "# Show the first few rows of the concatenated DataFrame\n",
    "print(concatenated_df.head())\n"
   ]
  },
  {
   "cell_type": "code",
   "execution_count": 33,
   "id": "1e9b8e02-d1fa-4c62-9145-324a31820197",
   "metadata": {},
   "outputs": [
    {
     "ename": "NameError",
     "evalue": "name 'data' is not defined",
     "output_type": "error",
     "traceback": [
      "\u001b[1;31m---------------------------------------------------------------------------\u001b[0m",
      "\u001b[1;31mNameError\u001b[0m                                 Traceback (most recent call last)",
      "Cell \u001b[1;32mIn[33], line 1\u001b[0m\n\u001b[1;32m----> 1\u001b[0m correlation_matrix \u001b[38;5;241m=\u001b[39m data\u001b[38;5;241m.\u001b[39mcorr()\n\u001b[0;32m      3\u001b[0m \u001b[38;5;66;03m# Display the correlation matrix\u001b[39;00m\n\u001b[0;32m      4\u001b[0m \u001b[38;5;28mprint\u001b[39m(correlation_matrix)\n",
      "\u001b[1;31mNameError\u001b[0m: name 'data' is not defined"
     ]
    }
   ],
   "source": [
    "'''\n",
    "We are going to be talking about how to approach the modelling. Since we are using a combination of all of the factors in our dataset, we will also do better feature engineering to extract the best use and information from the columns. \n",
    "We are looking at using algorithms such as XGBoost.\n",
    "Algorithms like XGBoost, LightGBM, and CatBoost are particularly suited for regression tasks, especially when dealing with complex and non-linear relationships. They can handle various types of data, have mechanisms to deal with overfitting, and often provide high accuracy.\n",
    "'''"
   ]
  },
  {
   "cell_type": "code",
   "execution_count": null,
   "id": "48ea0d51",
   "metadata": {},
   "outputs": [],
   "source": []
  }
 ],
 "metadata": {
  "kernelspec": {
   "display_name": "Python 3 (ipykernel)",
   "language": "python",
   "name": "python3"
  },
  "language_info": {
   "codemirror_mode": {
    "name": "ipython",
    "version": 3
   },
   "file_extension": ".py",
   "mimetype": "text/x-python",
   "name": "python",
   "nbconvert_exporter": "python",
   "pygments_lexer": "ipython3",
   "version": "3.11.5"
  }
 },
 "nbformat": 4,
 "nbformat_minor": 5
}
